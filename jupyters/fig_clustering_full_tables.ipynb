{
 "cells": [
  {
   "cell_type": "code",
   "id": "initial_id",
   "metadata": {
    "collapsed": true,
    "ExecuteTime": {
     "end_time": "2024-09-24T15:22:38.250357Z",
     "start_time": "2024-09-24T15:22:38.227016Z"
    }
   },
   "source": [
    "import pandas as pd\n",
    "import numpy as np\n",
    "import matplotlib.pyplot as plt\n",
    "import seaborn as sns\n",
    "import json\n",
    "\n",
    "from pathlib import Path\n",
    "import re\n",
    "\n",
    "from IPython.core.display import display_latex\n",
    "\n",
    "from visu_utils import TASK_LIST_CLASSIFICATION, make_results_tables_per_group_size, load_classification_merged_mteb, \\\n",
    "    load_clustering_merged_mteb\n",
    "\n",
    "from autorank import autorank, plot_stats, create_report, latex_table\n",
    "\n",
    "EXPORT_PATH_TABLE = Path(\"../../papers/Distillation-MI-ICLR/tables/nlp/\")\n",
    "EXPORT_PATH_FIG = Path(\"../../papers/Distillation-MI-ICLR/figures/nlp/\")\n",
    "\n",
    "# Make sure the folders exist\n",
    "EXPORT_PATH_TABLE.mkdir(parents=True, exist_ok=True)\n",
    "EXPORT_PATH_FIG.mkdir(parents=True, exist_ok=True)\n",
    "\n",
    "%reload_ext autoreload\n",
    "%autoreload 2\n"
   ],
   "outputs": [],
   "execution_count": 5
  },
  {
   "metadata": {
    "ExecuteTime": {
     "end_time": "2024-09-24T15:22:38.499702Z",
     "start_time": "2024-09-24T15:22:38.430315Z"
    }
   },
   "cell_type": "code",
   "source": [
    "\n",
    "MTEB_BASELINES_PATH = Path(\"../non_sync/baselines_mteb/mteb_detailed/en_Clustering.csv\")\n",
    "\n",
    "RESULTS_PATHS = [Path(\"../non_sync/mteb_benchmarking/results/experiments_gist_nll\"),\n",
    "                 Path(\"../non_sync/mteb_benchmarking/results/experiments_gist_mse\")\n",
    "                 ]\n",
    "\n",
    "\n",
    "\n",
    "df_merged = load_clustering_merged_mteb(MTEB_BASELINES_PATH, RESULTS_PATHS)\n",
    "\n",
    "\n",
    "# select only last training step for each model\n",
    "df_merged = df_merged.reset_index()\n",
    "\n",
    "indices = df_merged.sort_values('Training step').groupby('Model')['Training step'].idxmax()\n",
    "df_merged = df_merged.loc[indices]\n",
    "df_merged = df_merged.drop('Training step', axis=1)\n",
    "\n",
    "display(df_merged[df_merged['Model'].str.contains('Stu')])\n",
    "\n",
    "df_melted = df_merged.melt(id_vars=['Model', 'Model Size (Million Parameters)', 'loss', 'Dataset'],\n",
    "                           value_vars=df_merged.columns[4:], var_name='Task', value_name='Score')\n",
    "\n"
   ],
   "id": "a2ada8e08e28d14a",
   "outputs": [
    {
     "data": {
      "text/plain": [
       "    index                Model  Model Size (Million Parameters) loss Dataset  \\\n",
       "12     12   MSE/GIST/Student-m                            109.0  MSE    GIST   \n",
       "14     14   MSE/GIST/Student-s                             33.0  MSE    GIST   \n",
       "16     16  MSE/GIST/Student-xs                             23.0  MSE    GIST   \n",
       "2       2   NLL/GIST/Student-m                            109.0  NLL    GIST   \n",
       "6       6   NLL/GIST/Student-s                             33.0  NLL    GIST   \n",
       "10     10  NLL/GIST/Student-xs                             23.0  NLL    GIST   \n",
       "\n",
       "    ArxivClusteringP2P  ArxivClusteringS2S  RedditClustering  \\\n",
       "12           46.498656           37.081099         54.471155   \n",
       "14           43.137838           33.265613         50.768963   \n",
       "16           42.350938           30.884787         49.194528   \n",
       "2            47.728607           38.721918         56.278965   \n",
       "6            45.854248           35.214716         51.911016   \n",
       "10           45.215166           33.898452         52.138519   \n",
       "\n",
       "    RedditClusteringP2P  StackExchangeClustering  StackExchangeClusteringP2P  \\\n",
       "12            60.397679                62.016317                   33.357345   \n",
       "14            57.123363                55.653675                   32.257206   \n",
       "16            55.219228                53.526287                   32.654630   \n",
       "2             61.523439                64.655865                   33.843269   \n",
       "6             60.291415                61.457940                   32.254829   \n",
       "10            58.100985                59.904538                   33.067741   \n",
       "\n",
       "    TwentyNewsgroupsClustering  \n",
       "12                   46.076800  \n",
       "14                   42.788537  \n",
       "16                   41.896597  \n",
       "2                    46.596227  \n",
       "6                    45.084456  \n",
       "10                   44.338147  "
      ],
      "text/html": [
       "<div>\n",
       "<style scoped>\n",
       "    .dataframe tbody tr th:only-of-type {\n",
       "        vertical-align: middle;\n",
       "    }\n",
       "\n",
       "    .dataframe tbody tr th {\n",
       "        vertical-align: top;\n",
       "    }\n",
       "\n",
       "    .dataframe thead th {\n",
       "        text-align: right;\n",
       "    }\n",
       "</style>\n",
       "<table border=\"1\" class=\"dataframe\">\n",
       "  <thead>\n",
       "    <tr style=\"text-align: right;\">\n",
       "      <th></th>\n",
       "      <th>index</th>\n",
       "      <th>Model</th>\n",
       "      <th>Model Size (Million Parameters)</th>\n",
       "      <th>loss</th>\n",
       "      <th>Dataset</th>\n",
       "      <th>ArxivClusteringP2P</th>\n",
       "      <th>ArxivClusteringS2S</th>\n",
       "      <th>RedditClustering</th>\n",
       "      <th>RedditClusteringP2P</th>\n",
       "      <th>StackExchangeClustering</th>\n",
       "      <th>StackExchangeClusteringP2P</th>\n",
       "      <th>TwentyNewsgroupsClustering</th>\n",
       "    </tr>\n",
       "  </thead>\n",
       "  <tbody>\n",
       "    <tr>\n",
       "      <th>12</th>\n",
       "      <td>12</td>\n",
       "      <td>MSE/GIST/Student-m</td>\n",
       "      <td>109.0</td>\n",
       "      <td>MSE</td>\n",
       "      <td>GIST</td>\n",
       "      <td>46.498656</td>\n",
       "      <td>37.081099</td>\n",
       "      <td>54.471155</td>\n",
       "      <td>60.397679</td>\n",
       "      <td>62.016317</td>\n",
       "      <td>33.357345</td>\n",
       "      <td>46.076800</td>\n",
       "    </tr>\n",
       "    <tr>\n",
       "      <th>14</th>\n",
       "      <td>14</td>\n",
       "      <td>MSE/GIST/Student-s</td>\n",
       "      <td>33.0</td>\n",
       "      <td>MSE</td>\n",
       "      <td>GIST</td>\n",
       "      <td>43.137838</td>\n",
       "      <td>33.265613</td>\n",
       "      <td>50.768963</td>\n",
       "      <td>57.123363</td>\n",
       "      <td>55.653675</td>\n",
       "      <td>32.257206</td>\n",
       "      <td>42.788537</td>\n",
       "    </tr>\n",
       "    <tr>\n",
       "      <th>16</th>\n",
       "      <td>16</td>\n",
       "      <td>MSE/GIST/Student-xs</td>\n",
       "      <td>23.0</td>\n",
       "      <td>MSE</td>\n",
       "      <td>GIST</td>\n",
       "      <td>42.350938</td>\n",
       "      <td>30.884787</td>\n",
       "      <td>49.194528</td>\n",
       "      <td>55.219228</td>\n",
       "      <td>53.526287</td>\n",
       "      <td>32.654630</td>\n",
       "      <td>41.896597</td>\n",
       "    </tr>\n",
       "    <tr>\n",
       "      <th>2</th>\n",
       "      <td>2</td>\n",
       "      <td>NLL/GIST/Student-m</td>\n",
       "      <td>109.0</td>\n",
       "      <td>NLL</td>\n",
       "      <td>GIST</td>\n",
       "      <td>47.728607</td>\n",
       "      <td>38.721918</td>\n",
       "      <td>56.278965</td>\n",
       "      <td>61.523439</td>\n",
       "      <td>64.655865</td>\n",
       "      <td>33.843269</td>\n",
       "      <td>46.596227</td>\n",
       "    </tr>\n",
       "    <tr>\n",
       "      <th>6</th>\n",
       "      <td>6</td>\n",
       "      <td>NLL/GIST/Student-s</td>\n",
       "      <td>33.0</td>\n",
       "      <td>NLL</td>\n",
       "      <td>GIST</td>\n",
       "      <td>45.854248</td>\n",
       "      <td>35.214716</td>\n",
       "      <td>51.911016</td>\n",
       "      <td>60.291415</td>\n",
       "      <td>61.457940</td>\n",
       "      <td>32.254829</td>\n",
       "      <td>45.084456</td>\n",
       "    </tr>\n",
       "    <tr>\n",
       "      <th>10</th>\n",
       "      <td>10</td>\n",
       "      <td>NLL/GIST/Student-xs</td>\n",
       "      <td>23.0</td>\n",
       "      <td>NLL</td>\n",
       "      <td>GIST</td>\n",
       "      <td>45.215166</td>\n",
       "      <td>33.898452</td>\n",
       "      <td>52.138519</td>\n",
       "      <td>58.100985</td>\n",
       "      <td>59.904538</td>\n",
       "      <td>33.067741</td>\n",
       "      <td>44.338147</td>\n",
       "    </tr>\n",
       "  </tbody>\n",
       "</table>\n",
       "</div>"
      ]
     },
     "metadata": {},
     "output_type": "display_data"
    }
   ],
   "execution_count": 6
  },
  {
   "metadata": {
    "ExecuteTime": {
     "end_time": "2024-09-24T15:22:38.595064Z",
     "start_time": "2024-09-24T15:22:38.593074Z"
    }
   },
   "cell_type": "code",
   "source": "",
   "id": "a3cdf3c367c61bac",
   "outputs": [],
   "execution_count": null
  },
  {
   "metadata": {
    "ExecuteTime": {
     "end_time": "2024-09-24T15:22:38.780642Z",
     "start_time": "2024-09-24T15:22:38.759580Z"
    }
   },
   "cell_type": "code",
   "source": [
    "# to downsample\n",
    "\n",
    "models = ['paraphrase-multilingual', 'msmarco', 'ALL', \"m-v1.5\", \"unsup-sim\"]\n"
   ],
   "id": "ac94c4f4793c7243",
   "outputs": [],
   "execution_count": 7
  },
  {
   "metadata": {
    "ExecuteTime": {
     "end_time": "2024-09-24T15:22:39.033139Z",
     "start_time": "2024-09-24T15:22:38.908525Z"
    }
   },
   "cell_type": "code",
   "source": [
    "\n",
    "size_ranges = [(16, 30), (30, 50), (100, 120)]\n",
    "\n",
    "idx = pd.IndexSlice\n",
    "for k, (low, high) in enumerate(size_ranges):\n",
    "    latex_results = df_melted[\n",
    "        (df_melted['Model Size (Million Parameters)'] >= low) & (\n",
    "                df_melted['Model Size (Million Parameters)'] <= high)].copy()\n",
    "\n",
    "    latex_results['Task'] = latex_results['Task'].apply(lambda x: x.replace(\"Classification\", \"\"))\n",
    "    latex_results['Task'] = latex_results['Task'].apply(lambda x: re.sub(r'(?<=[a-z])(?=[A-Z])', ' ', x))\n",
    "    latex_results['Task'] = latex_results['Task'].apply(lambda x: x.replace(\" (en)\", \"\"))\n",
    "    latex_results['Task'] = latex_results['Task'].apply(lambda x: x.replace(\" \", \" \\\\\\\\ \"))\n",
    "    latex_results['Task'] = latex_results['Task'].apply(lambda x: f\"\\\\rotatebox{{90}}{{\\\\shortstack{{{x}}}}}\")\n",
    "\n",
    "    make_results_tables_per_group_size(latex_results, \"Score\", low, high, EXPORT_PATH_TABLE,\n",
    "                                       f\"mteb_clustering_per_size_{low}_{high}\",\n",
    "                                       caption=f\"Performance of our distilled models compared of models of similar sizes {low}M to {high}M parameters from the MTEB Benchmark on clustering tasks.\")\n",
    "\n",
    "    for model in models:\n",
    "        latex_results = latex_results[~latex_results['Model'].str.contains(model)]\n",
    "\n",
    "    make_results_tables_per_group_size(latex_results, \"Score\", low, high, EXPORT_PATH_TABLE,\n",
    "                                       name=\"mteb_clustering_per_size_{low}_{high}_downsampled\",\n",
    "                                       caption=f\"Performance of our distilled models compared of models of similar sizes {low}M to {high}M parameters from the MTEB Benchmark on clustering tasks.\")\n",
    "\n",
    "\n",
    "\n",
    "\n",
    "\n",
    "\n"
   ],
   "id": "be5e46bbfed3ed96",
   "outputs": [],
   "execution_count": 8
  },
  {
   "metadata": {
    "ExecuteTime": {
     "end_time": "2024-09-24T15:22:39.050104Z",
     "start_time": "2024-09-24T15:22:39.047844Z"
    }
   },
   "cell_type": "code",
   "source": "",
   "id": "fb77c2a88a774c10",
   "outputs": [],
   "execution_count": null
  },
  {
   "metadata": {
    "ExecuteTime": {
     "end_time": "2024-09-24T15:22:39.192890Z",
     "start_time": "2024-09-24T15:22:39.188679Z"
    }
   },
   "cell_type": "code",
   "source": "",
   "id": "2927042ded463867",
   "outputs": [],
   "execution_count": null
  },
  {
   "metadata": {
    "ExecuteTime": {
     "end_time": "2024-09-24T15:22:39.379808Z",
     "start_time": "2024-09-24T15:22:39.374391Z"
    }
   },
   "cell_type": "code",
   "source": "",
   "id": "57a62ab27bd24029",
   "outputs": [],
   "execution_count": null
  },
  {
   "metadata": {},
   "cell_type": "code",
   "outputs": [],
   "execution_count": null,
   "source": "",
   "id": "c86a6f0708b0126c"
  }
 ],
 "metadata": {
  "kernelspec": {
   "display_name": "Python 3",
   "language": "python",
   "name": "python3"
  },
  "language_info": {
   "codemirror_mode": {
    "name": "ipython",
    "version": 2
   },
   "file_extension": ".py",
   "mimetype": "text/x-python",
   "name": "python",
   "nbconvert_exporter": "python",
   "pygments_lexer": "ipython2",
   "version": "2.7.6"
  }
 },
 "nbformat": 4,
 "nbformat_minor": 5
}
