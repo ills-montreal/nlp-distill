{
 "cells": [
  {
   "cell_type": "code",
   "id": "initial_id",
   "metadata": {
    "collapsed": true,
    "ExecuteTime": {
     "end_time": "2024-09-22T13:30:08.493155Z",
     "start_time": "2024-09-22T13:30:08.376947Z"
    }
   },
   "source": [
    "import pandas as pd\n",
    "import numpy as np\n",
    "import matplotlib.pyplot as plt\n",
    "import seaborn as sns\n",
    "import json\n",
    "\n",
    "from pathlib import Path\n",
    "import re\n",
    "\n",
    "from jupyters.visu_utils import load_sts_merged_mteb\n",
    "from visu_utils import TASK_LIST_CLASSIFICATION, make_results_tables_per_group_size, load_sts_merged_mteb\n",
    "\n",
    "from autorank import autorank, plot_stats, create_report, latex_table\n",
    "\n",
    "EXPORT_PATH_TABLE = Path(\"../../papers/Distillation-MI-ICLR/tables/nlp/\")\n",
    "EXPORT_PATH_FIG = Path(\"../../papers/Distillation-MI-ICLR/figures/nlp/\")\n",
    "\n",
    "# Make sure the folders exist\n",
    "EXPORT_PATH_TABLE.mkdir(parents=True, exist_ok=True)\n",
    "EXPORT_PATH_FIG.mkdir(parents=True, exist_ok=True)\n",
    "\n",
    "%reload_ext autoreload\n",
    "%autoreload 2\n"
   ],
   "outputs": [],
   "execution_count": 31
  },
  {
   "metadata": {
    "ExecuteTime": {
     "end_time": "2024-09-22T13:30:33.480291Z",
     "start_time": "2024-09-22T13:30:33.279304Z"
    }
   },
   "cell_type": "code",
   "source": [
    "\n",
    "# load mteb classification\n",
    "\n",
    "MTEB_BASELINES_PATH = Path(\"../non_sync/baselines_mteb/mteb_detailed/en_STS.csv\")\n",
    "\n",
    "RESULTS_PATHS = [Path(\"../non_sync/mteb_benchmarking/results/experiments_gist_nll\"),\n",
    "                 Path(\"../non_sync/mteb_benchmarking/results/experiments_gist_mse\")\n",
    "                 ]\n",
    "\n",
    "\n",
    "\n",
    "df_merged = load_sts_merged_mteb(MTEB_BASELINES_PATH, RESULTS_PATHS)\n",
    "\n",
    "df_merged = df_merged[\n",
    "    (df_merged['Model Size (Million Parameters)'] >= 10) & (df_merged['Model Size (Million Parameters)'] <= 450)]\n",
    "\n",
    "# select only last training step for each model\n",
    "df_merged = df_merged.reset_index()\n",
    "\n",
    "indices = df_merged.sort_values('Training step').groupby('Model')['Training step'].idxmax()\n",
    "df_merged = df_merged.loc[indices]\n",
    "df_merged = df_merged.drop('Training step', axis=1)\n",
    "df_merged\n",
    "\n",
    "\n",
    "\n",
    "\n"
   ],
   "id": "a2ada8e08e28d14a",
   "outputs": [],
   "execution_count": 36
  },
  {
   "metadata": {
    "ExecuteTime": {
     "end_time": "2024-09-22T13:30:41.951401Z",
     "start_time": "2024-09-22T13:30:41.860555Z"
    }
   },
   "cell_type": "code",
   "source": [
    "# melt columns back into rows with Accuracy\n",
    "df_melted = df_merged.melt(id_vars=['Model', 'Model Size (Million Parameters)', 'loss', 'Dataset'],\n",
    "                           value_vars=df_merged.columns[4:], var_name='Task', value_name='Score')\n",
    "\n",
    "\n",
    "df_melted = df_melted[~df_melted['Task'].str.contains('SummEval')]\n"
   ],
   "id": "a3cdf3c367c61bac",
   "outputs": [],
   "execution_count": 38
  },
  {
   "metadata": {
    "ExecuteTime": {
     "end_time": "2024-09-22T13:30:42.386384Z",
     "start_time": "2024-09-22T13:30:42.293766Z"
    }
   },
   "cell_type": "code",
   "source": "df_melted.head()",
   "id": "ac94c4f4793c7243",
   "outputs": [
    {
     "data": {
      "text/plain": [
       "                               Model  Model Size (Million Parameters)  loss  \\\n",
       "0       Alibaba-NLP/gte-base-en-v1.5                            137.0  MTEB   \n",
       "1      Alibaba-NLP/gte-large-en-v1.5                            434.0  MTEB   \n",
       "2  Alibaba-NLP/gte-multilingual-base                            305.0  MTEB   \n",
       "3              BAAI/bge-base-en-v1.5                            109.0  MTEB   \n",
       "4             BAAI/bge-large-en-v1.5                            335.0  MTEB   \n",
       "\n",
       "  Dataset     Task  Score  \n",
       "0    MTEB  BIOSSES  83.65  \n",
       "1    MTEB  BIOSSES  85.39  \n",
       "2    MTEB  BIOSSES  81.21  \n",
       "3    MTEB  BIOSSES  86.94  \n",
       "4    MTEB  BIOSSES  84.65  "
      ],
      "text/html": [
       "<div>\n",
       "<style scoped>\n",
       "    .dataframe tbody tr th:only-of-type {\n",
       "        vertical-align: middle;\n",
       "    }\n",
       "\n",
       "    .dataframe tbody tr th {\n",
       "        vertical-align: top;\n",
       "    }\n",
       "\n",
       "    .dataframe thead th {\n",
       "        text-align: right;\n",
       "    }\n",
       "</style>\n",
       "<table border=\"1\" class=\"dataframe\">\n",
       "  <thead>\n",
       "    <tr style=\"text-align: right;\">\n",
       "      <th></th>\n",
       "      <th>Model</th>\n",
       "      <th>Model Size (Million Parameters)</th>\n",
       "      <th>loss</th>\n",
       "      <th>Dataset</th>\n",
       "      <th>Task</th>\n",
       "      <th>Score</th>\n",
       "    </tr>\n",
       "  </thead>\n",
       "  <tbody>\n",
       "    <tr>\n",
       "      <th>0</th>\n",
       "      <td>Alibaba-NLP/gte-base-en-v1.5</td>\n",
       "      <td>137.0</td>\n",
       "      <td>MTEB</td>\n",
       "      <td>MTEB</td>\n",
       "      <td>BIOSSES</td>\n",
       "      <td>83.65</td>\n",
       "    </tr>\n",
       "    <tr>\n",
       "      <th>1</th>\n",
       "      <td>Alibaba-NLP/gte-large-en-v1.5</td>\n",
       "      <td>434.0</td>\n",
       "      <td>MTEB</td>\n",
       "      <td>MTEB</td>\n",
       "      <td>BIOSSES</td>\n",
       "      <td>85.39</td>\n",
       "    </tr>\n",
       "    <tr>\n",
       "      <th>2</th>\n",
       "      <td>Alibaba-NLP/gte-multilingual-base</td>\n",
       "      <td>305.0</td>\n",
       "      <td>MTEB</td>\n",
       "      <td>MTEB</td>\n",
       "      <td>BIOSSES</td>\n",
       "      <td>81.21</td>\n",
       "    </tr>\n",
       "    <tr>\n",
       "      <th>3</th>\n",
       "      <td>BAAI/bge-base-en-v1.5</td>\n",
       "      <td>109.0</td>\n",
       "      <td>MTEB</td>\n",
       "      <td>MTEB</td>\n",
       "      <td>BIOSSES</td>\n",
       "      <td>86.94</td>\n",
       "    </tr>\n",
       "    <tr>\n",
       "      <th>4</th>\n",
       "      <td>BAAI/bge-large-en-v1.5</td>\n",
       "      <td>335.0</td>\n",
       "      <td>MTEB</td>\n",
       "      <td>MTEB</td>\n",
       "      <td>BIOSSES</td>\n",
       "      <td>84.65</td>\n",
       "    </tr>\n",
       "  </tbody>\n",
       "</table>\n",
       "</div>"
      ]
     },
     "execution_count": 39,
     "metadata": {},
     "output_type": "execute_result"
    }
   ],
   "execution_count": 39
  },
  {
   "metadata": {
    "ExecuteTime": {
     "end_time": "2024-09-22T13:30:42.886174Z",
     "start_time": "2024-09-22T13:30:42.499322Z"
    }
   },
   "cell_type": "code",
   "source": [
    "\n",
    "sns.set_style(\"white\")\n",
    "\n",
    "fig, ax = plt.subplots(1, 1, figsize=(3, 3))\n",
    "\n",
    "df_avg = df_melted.groupby(['Model', 'loss']).mean(numeric_only=True)\n",
    "df_avg = df_avg.reset_index()\n",
    "\n",
    "# rename loss\n",
    "df_avg['loss'] = df_avg['loss'].replace({\"N/A\": \"MTEB\"})\n",
    "# rename column loss\n",
    "df_avg = df_avg.rename(columns={\"loss\": \"Models\"})\n",
    "\n",
    "# keep only less than 50M \n",
    "df_avg = df_avg[df_avg['Model Size (Million Parameters)'] <= 120]\n",
    "df_avg = df_avg.dropna()\n",
    "\n",
    "\n",
    "sns.scatterplot(data=df_avg, x='Model Size (Million Parameters)', y='Score', hue='Models', size=\"Models\",\n",
    "                sizes=(100, 30), ax=ax, palette=\"Set2\")\n",
    "\n",
    "\n",
    "def trace_pareto_frontier(df, x, y, ax):\n",
    "    df = df.sort_values(x)\n",
    "    pareto_front = [df.iloc[0]]\n",
    "    for i in range(1, len(df)):\n",
    "        if df.iloc[i][y] >= pareto_front[-1][y]:\n",
    "            pareto_front.append(df.iloc[i])\n",
    "    pareto_front = pd.DataFrame(pareto_front)\n",
    "    ax.plot(pareto_front[x], pareto_front[y], 'red', linestyle=\"-.\", lw=3, alpha=0.8)\n",
    "\n",
    "\n",
    "trace_pareto_frontier(df_avg, 'Model Size (Million Parameters)', 'Score', ax)\n",
    "\n",
    "# Change label sizes\n",
    "ax.set_xlabel(\"Model Size (M)\", fontsize=12, fontweight='bold')\n",
    "ax.set_ylabel(\"Score\", fontsize=12, fontweight='bold')\n",
    "\n",
    "\n",
    "# set ylim\n",
    "ax.set_ylim(70, 85)\n",
    "\n",
    "# export\n",
    "fig.tight_layout()\n",
    "fig.savefig(EXPORT_PATH_FIG / \"pareto_frontier_sts_nlp_less_110.png\")\n",
    "\n"
   ],
   "id": "f501a0d77e6d01ef",
   "outputs": [
    {
     "data": {
      "text/plain": [
       "<Figure size 300x300 with 1 Axes>"
      ],
      "image/png": "[encoded data removed]"
     },
     "metadata": {},
     "output_type": "display_data"
    }
   ],
   "execution_count": 40
  },
  {
   "metadata": {
    "ExecuteTime": {
     "end_time": "2024-09-22T13:30:42.897194Z",
     "start_time": "2024-09-22T13:30:42.892979Z"
    }
   },
   "cell_type": "code",
   "source": "",
   "id": "a7004185ac13820c",
   "outputs": [],
   "execution_count": null
  },
  {
   "metadata": {
    "ExecuteTime": {
     "end_time": "2024-09-22T13:30:09.710200Z",
     "start_time": "2024-09-22T13:30:09.705440Z"
    }
   },
   "cell_type": "code",
   "source": "",
   "id": "c1393cee3216d0d7",
   "outputs": [],
   "execution_count": null
  },
  {
   "metadata": {
    "ExecuteTime": {
     "end_time": "2024-09-22T13:30:09.775775Z",
     "start_time": "2024-09-22T13:30:09.771768Z"
    }
   },
   "cell_type": "code",
   "source": "",
   "id": "56bc31167748154",
   "outputs": [],
   "execution_count": null
  },
  {
   "metadata": {
    "ExecuteTime": {
     "end_time": "2024-09-22T13:30:09.826521Z",
     "start_time": "2024-09-22T13:30:09.822419Z"
    }
   },
   "cell_type": "code",
   "source": "\n",
   "id": "da74a870349bff11",
   "outputs": [],
   "execution_count": 35
  },
  {
   "metadata": {
    "ExecuteTime": {
     "end_time": "2024-09-22T13:30:09.875278Z",
     "start_time": "2024-09-22T13:30:09.872029Z"
    }
   },
   "cell_type": "code",
   "source": "",
   "id": "2927042ded463867",
   "outputs": [],
   "execution_count": null
  },
  {
   "metadata": {
    "ExecuteTime": {
     "end_time": "2024-09-22T13:30:09.940995Z",
     "start_time": "2024-09-22T13:30:09.936862Z"
    }
   },
   "cell_type": "code",
   "source": "",
   "id": "57a62ab27bd24029",
   "outputs": [],
   "execution_count": null
  }
 ],
 "metadata": {
  "kernelspec": {
   "display_name": "Python 3",
   "language": "python",
   "name": "python3"
  },
  "language_info": {
   "codemirror_mode": {
    "name": "ipython",
    "version": 2
   },
   "file_extension": ".py",
   "mimetype": "text/x-python",
   "name": "python",
   "nbconvert_exporter": "python",
   "pygments_lexer": "ipython2",
   "version": "2.7.6"
  }
 },
 "nbformat": 4,
 "nbformat_minor": 5
}
